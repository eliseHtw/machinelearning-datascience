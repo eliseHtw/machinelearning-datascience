{
 "cells": [
  {
   "cell_type": "markdown",
   "metadata": {},
   "source": [
    "# Exercises Python week 1"
   ]
  },
  {
   "cell_type": "markdown",
   "metadata": {},
   "source": [
    "# Exercise 1\n",
    "\n",
    "Which of the following statements in the Python shell are correct and which are not? In case of the incorrect statements, explain what the problem is.\n",
    "\n",
    "```python\n",
    "\n",
    ">>> t = (4, 7, 9)\n",
    ">>> s = \"The sun shines\"\n",
    ">>> l = [34, 22.1,\"777\",[3, 4]]\n",
    ">>> t2 = (4, 8, [45, 91])\n",
    ">>> t[0]\n",
    ">>> t[3]\n",
    ">>> t(3)\n",
    ">>> s[4]\n",
    ">>> s[4] = \"x\"\n",
    ">>> l[2][0] = \"g\"\n",
    ">>> l[3][0] = \"h\"\n",
    ">>> l\n",
    ">>> t2[2][0] = 23\n",
    "```\n"
   ]
  },
  {
   "cell_type": "code",
   "execution_count": 1,
   "metadata": {},
   "outputs": [
    {
     "name": "stdout",
     "output_type": "stream",
     "text": [
      "4\n",
      "s\n",
      "3\n",
      "h\n",
      "[34, 22.1, '777', ['h', 4]]\n",
      "45\n",
      "23\n",
      "(4, 7, 9)\n",
      "The sun shines\n",
      "(4, 8, [23, 91])\n",
      "[34, 22.1, '777', ['h', 4]]\n"
     ]
    }
   ],
   "source": [
    "t = (4, 7, 9)                 # tupel\n",
    "s = \"The sun shines\"          # string\n",
    "l = [34, 22.1,\"777\",[3, 4]]   # list\n",
    "t2 = (4, 8, [45, 91])         # tupel\n",
    "t[0]                          # tupel an der 1. Stelle\n",
    "print(t[0])\n",
    "# t[3]                        # tupel an der 4. Stelle, wirft Fehler, weil es nur 3 Einträge hat\n",
    "# t(3)                        # TypeError: 'tuple' object is not callable\n",
    "s[4]                          # 5. Zeichen vom String: s\n",
    "print(s[4])\n",
    "# s[4] = \"x\"                  # TypeError: 'str' object does not support item assignment\n",
    "# l[2][0] = \"g\"               # TypeError: 'str' object does not support item assignment\n",
    "print(l[3][0])                # das 1. Zeichen des 4. Elements der Liste: 3\n",
    "l[3][0] = \"h\"                 # ändere das Zeichen in \"h\"\n",
    "print(l[3][0])                # das 1. Zeichen des 4. Elements der Liste: h\n",
    "l                             # ruft l auf\n",
    "print(l)                  \n",
    "print(t2[2][0])               # der erste Eintrag des 3 Elements in Tupel 2: 45\n",
    "t2[2][0] = 23                 # ändere den Eintrag in 23\n",
    "print(t2[2][0])               # der erste Eintrag des 3 Elements in Tupel 2: 23\n",
    "print(t)\n",
    "print(s)\n",
    "print(t2)\n",
    "print(l)"
   ]
  },
  {
   "cell_type": "markdown",
   "metadata": {},
   "source": [
    "## Exercise 2\n",
    "#### Slicing operator on sequential data types\n",
    "\n",
    "Which two sentences are hidden behind the following letter salad? \n",
    "<pre>\n",
    "\"IY otuh ihnakv ei ta  ipsr oac endeuwr ef ewaittuhr e1.0  Dpoanr'atm etteelrls ?a nyyooun ep riotb awbalsy  amni sascecdi dseonmte..\"\n",
    "</pre>"
   ]
  },
  {
   "cell_type": "code",
   "execution_count": 4,
   "metadata": {},
   "outputs": [
    {
     "name": "stdout",
     "output_type": "stream",
     "text": [
      "You have a procedure with 10 parameters? you probably missed some.\n",
      "66\n",
      "I think it is a new feature. Don't tell anyone it was an accident.\n",
      "66\n"
     ]
    }
   ],
   "source": [
    "string_anfang = \"IY otuh ihnakv ei ta  ipsr oac endeuwr ef ewaittuhr e1.0  Dpoanr'atm etteelrls ?a nyyooun ep riotb awbalsy  amni sascecdi dseonmte..\"\n",
    "\n",
    "string_1 = \"\"\n",
    "string_2 = \"\"\n",
    "i = 0\n",
    "for i in range(1, len(string_anfang), 2):\n",
    "    string_1 = string_1 + string_anfang[i]\n",
    "    \n",
    "for i in range(0, len(string_anfang), 2):\n",
    "    string_2 = string_2 + string_anfang[i]\n",
    "\n",
    "print(string_1)\n",
    "print(len(string_1))\n",
    "print(string_2)\n",
    "print(len(string_2))"
   ]
  },
  {
   "cell_type": "markdown",
   "metadata": {},
   "source": [
    "## Exercise 3\n",
    "\n",
    "#### IF-Else clauses with comparison and Boolean operators \n",
    " \n",
    "(a) Write a program that asks the user to enter a color or an initial letter of a color. If the color is 'white' or 'gray', the sentence 'The color is a bit boring' should be output. If the color starts with the letter 'b' or 'r', another statement shall be output (pick one yourself :-)). \n",
    "\n",
    "(b) Extend the program to accept both upper and lower case. Note: use the string method `lower()` for this, which you can use as follows: \n",
    "\n",
    "```python\n",
    ">>> 'sRt'.lower()\n",
    "`srt'\n",
    "```\n",
    "\n",
    "(c) Think about a number and store it in a variable `my_lucky_number`. Your program should now prompt the user to enter a number. If the number is larger than the value of your invented number, 'The entered number is too large' is to be output. Corresponding sentences are to be output for the other two cases (identical to the number and smaller than the number). Note: the function `input()` returns a string which you have to convert using a type-changing function."
   ]
  },
  {
   "cell_type": "code",
   "execution_count": 3,
   "metadata": {},
   "outputs": [
    {
     "name": "stdout",
     "output_type": "stream",
     "text": [
      "please enter a color or the initial letter of a color: 13\n",
      "This color is a good choice\n",
      "please enter a color or the initial letter of a color: 13\n",
      "This color is a good choice\n",
      "please enter a number: 13\n",
      "Yeah - great, thats's my lucky number! :)\n"
     ]
    }
   ],
   "source": [
    "eingabe = input(\"please enter a color or the initial letter of a color: \")\n",
    "\n",
    "if eingabe == \"white\" or eingabe == \"gray\":\n",
    "    print(\"This color is a bit boring\")\n",
    "elif eingabe.startswith(\"b\") or eingabe.startswith(\"r\"):\n",
    "    print(\"This color is too usual\")\n",
    "else:\n",
    "    print(\"This color is a good choice\")  \n",
    "\n",
    "    \n",
    "    \n",
    "eingabe = input(\"please enter a color or the initial letter of a color: \")\n",
    "\n",
    "if eingabe.lower() == \"white\" or eingabe.lower() == \"gray\":\n",
    "    print(\"This color is a bit boring\")\n",
    "elif eingabe.lower().startswith(\"b\") or eingabe.lower().startswith(\"r\"):\n",
    "    print(\"This color is too usual\")\n",
    "else:\n",
    "    print(\"This color is a good choice\")  \n",
    "    \n",
    "    \n",
    "    \n",
    "my_lucky_number = 13\n",
    "user_input = input(\"please enter a number: \")\n",
    "if int(user_input) > my_lucky_number:\n",
    "    print(\"The entered number is too large\")\n",
    "elif int(user_input) == my_lucky_number:\n",
    "    print(\"Yeah - great, thats's my lucky number! :)\")\n",
    "else: \n",
    "    print (\"The entered number is too small\")"
   ]
  },
  {
   "cell_type": "markdown",
   "metadata": {},
   "source": [
    "## Exercise 4\n",
    "\n",
    "#### Loops with comparison operators\n",
    "\n",
    "(a) Write a program that asks the user to guess your lucky number (you define this one yourself). If the answer is correct, the program stops and outputs a matching sentence. Otherwise, the prompt is repeated.\n",
    "\n",
    "(b) Adapt the program from (a) so that the user is also asked whether she/he wants to guess only once. Use a variable for each of the user's two answers. The program stops if the user guesses the correct number or answers 'yes' to the additional question.\n",
    "\n",
    "(c) Adapt the program from (b) so that the user can specify a maximum number of attempts. He will be asked to guess the correct number at most that many times."
   ]
  },
  {
   "cell_type": "code",
   "execution_count": 5,
   "metadata": {},
   "outputs": [
    {
     "name": "stdin",
     "output_type": "stream",
     "text": [
      "guess my lucky number!  ki\n"
     ]
    },
    {
     "ename": "ValueError",
     "evalue": "invalid literal for int() with base 10: 'ki'",
     "output_type": "error",
     "traceback": [
      "\u001b[0;31m---------------------------------------------------------------------------\u001b[0m",
      "\u001b[0;31mValueError\u001b[0m                                Traceback (most recent call last)",
      "Cell \u001b[0;32mIn[5], line 3\u001b[0m\n\u001b[1;32m      1\u001b[0m \u001b[38;5;28;01mwhile\u001b[39;00m \u001b[38;5;28;01mTrue\u001b[39;00m:\n\u001b[1;32m      2\u001b[0m     user_input \u001b[38;5;241m=\u001b[39m \u001b[38;5;28minput\u001b[39m(\u001b[38;5;124m\"\u001b[39m\u001b[38;5;124mguess my lucky number! \u001b[39m\u001b[38;5;124m\"\u001b[39m)\n\u001b[0;32m----> 3\u001b[0m     \u001b[38;5;28;01mif\u001b[39;00m \u001b[38;5;28;43mint\u001b[39;49m\u001b[43m(\u001b[49m\u001b[43muser_input\u001b[49m\u001b[43m)\u001b[49m \u001b[38;5;241m==\u001b[39m my_lucky_number: \n\u001b[1;32m      4\u001b[0m         \u001b[38;5;28mprint\u001b[39m(\u001b[38;5;124m\"\u001b[39m\u001b[38;5;124mlucky you!\u001b[39m\u001b[38;5;124m\"\u001b[39m)\n\u001b[1;32m      5\u001b[0m         \u001b[38;5;28;01mbreak\u001b[39;00m\n",
      "\u001b[0;31mValueError\u001b[0m: invalid literal for int() with base 10: 'ki'"
     ]
    }
   ],
   "source": [
    "while True:\n",
    "    user_input = input(\"guess my lucky number! \")\n",
    "    if int(user_input) == my_lucky_number: \n",
    "        print(\"lucky you!\")\n",
    "        break\n",
    "\n",
    "# Überprüfung, ob der Wert ein integer ist, fehlt noch!"
   ]
  },
  {
   "cell_type": "code",
   "execution_count": 5,
   "metadata": {},
   "outputs": [
    {
     "name": "stdout",
     "output_type": "stream",
     "text": [
      "guess my lucky number! 13\n",
      "Do you want to guess only once? 1\n",
      "lucky you!\n"
     ]
    }
   ],
   "source": [
    "while True:\n",
    "    user_input = input(\"guess my lucky number! \")\n",
    "    user_input_once = input(\"Do you want to guess only once? \")\n",
    "    if int(user_input) == my_lucky_number: \n",
    "        print(\"lucky you!\")\n",
    "        break\n",
    "    if user_input_once.lower() == \"yes\":\n",
    "        print(\"sorry not right\")\n",
    "        break"
   ]
  },
  {
   "cell_type": "code",
   "execution_count": 6,
   "metadata": {},
   "outputs": [
    {
     "name": "stdout",
     "output_type": "stream",
     "text": [
      "Specify a maximum number of attempts! 3\n",
      "guess my lucky number! 13\n",
      "lucky you!\n"
     ]
    }
   ],
   "source": [
    "users_input_often = input(\"Specify a maximum number of attempts! \")\n",
    "\n",
    "for i in range(int(users_input_often)):\n",
    "    user_input = input(\"guess my lucky number! \")\n",
    "    if int(user_input) == my_lucky_number: \n",
    "        print(\"lucky you!\")\n",
    "        break"
   ]
  },
  {
   "cell_type": "markdown",
   "metadata": {},
   "source": [
    "## Exercise 5\n",
    "\n",
    "#### `for`-Loops and lists\n",
    "\n",
    "(a) Print all multiples of 11 between 5 and 203 using the function `range()`. \n",
    "\n",
    "(b) Write a program which returns an input string in reverse order.\n",
    "\n",
    "(c) Extend the program from (b) by inserting the character '+' between each character.\n",
    "\n",
    "(d) Extend the program from (c) by additionally checking if the input string is the empty string ''. If so, '+' is to be output."
   ]
  },
  {
   "cell_type": "code",
   "execution_count": 7,
   "metadata": {},
   "outputs": [
    {
     "name": "stdout",
     "output_type": "stream",
     "text": [
      "55\n",
      "66\n",
      "77\n",
      "88\n",
      "99\n",
      "110\n",
      "121\n",
      "132\n",
      "143\n",
      "154\n",
      "165\n",
      "176\n",
      "187\n",
      "198\n",
      "209\n",
      "220\n",
      "231\n",
      "242\n",
      "253\n",
      "264\n",
      "275\n",
      "286\n",
      "297\n",
      "308\n",
      "319\n",
      "330\n",
      "341\n",
      "352\n",
      "363\n",
      "374\n",
      "385\n",
      "396\n",
      "407\n",
      "418\n",
      "429\n",
      "440\n",
      "451\n",
      "462\n",
      "473\n",
      "484\n",
      "495\n",
      "506\n",
      "517\n",
      "528\n",
      "539\n",
      "550\n",
      "561\n",
      "572\n",
      "583\n",
      "594\n",
      "605\n",
      "616\n",
      "627\n",
      "638\n",
      "649\n",
      "660\n",
      "671\n",
      "682\n",
      "693\n",
      "704\n",
      "715\n",
      "726\n",
      "737\n",
      "748\n",
      "759\n",
      "770\n",
      "781\n",
      "792\n",
      "803\n",
      "814\n",
      "825\n",
      "836\n",
      "847\n",
      "858\n",
      "869\n",
      "880\n",
      "891\n",
      "902\n",
      "913\n",
      "924\n",
      "935\n",
      "946\n",
      "957\n",
      "968\n",
      "979\n",
      "990\n",
      "1001\n",
      "1012\n",
      "1023\n",
      "1034\n",
      "1045\n",
      "1056\n",
      "1067\n",
      "1078\n",
      "1089\n",
      "1100\n",
      "1111\n",
      "1122\n",
      "1133\n",
      "1144\n",
      "1155\n",
      "1166\n",
      "1177\n",
      "1188\n",
      "1199\n",
      "1210\n",
      "1221\n",
      "1232\n",
      "1243\n",
      "1254\n",
      "1265\n",
      "1276\n",
      "1287\n",
      "1298\n",
      "1309\n",
      "1320\n",
      "1331\n",
      "1342\n",
      "1353\n",
      "1364\n",
      "1375\n",
      "1386\n",
      "1397\n",
      "1408\n",
      "1419\n",
      "1430\n",
      "1441\n",
      "1452\n",
      "1463\n",
      "1474\n",
      "1485\n",
      "1496\n",
      "1507\n",
      "1518\n",
      "1529\n",
      "1540\n",
      "1551\n",
      "1562\n",
      "1573\n",
      "1584\n",
      "1595\n",
      "1606\n",
      "1617\n",
      "1628\n",
      "1639\n",
      "1650\n",
      "1661\n",
      "1672\n",
      "1683\n",
      "1694\n",
      "1705\n",
      "1716\n",
      "1727\n",
      "1738\n",
      "1749\n",
      "1760\n",
      "1771\n",
      "1782\n",
      "1793\n",
      "1804\n",
      "1815\n",
      "1826\n",
      "1837\n",
      "1848\n",
      "1859\n",
      "1870\n",
      "1881\n",
      "1892\n",
      "1903\n",
      "1914\n",
      "1925\n",
      "1936\n",
      "1947\n",
      "1958\n",
      "1969\n",
      "1980\n",
      "1991\n",
      "2002\n",
      "2013\n",
      "2024\n",
      "2035\n",
      "2046\n",
      "2057\n",
      "2068\n",
      "2079\n",
      "2090\n",
      "2101\n",
      "2112\n",
      "2123\n",
      "2134\n",
      "2145\n",
      "2156\n",
      "2167\n",
      "2178\n",
      "2189\n",
      "2200\n",
      "2211\n",
      "2222\n",
      "2233\n"
     ]
    }
   ],
   "source": [
    "for i in range(5, 204):\n",
    "    print(i * 11)"
   ]
  },
  {
   "cell_type": "code",
   "execution_count": 8,
   "metadata": {},
   "outputs": [
    {
     "name": "stdout",
     "output_type": "stream",
     "text": [
      "Write something: kolo\n",
      "olok\n"
     ]
    }
   ],
   "source": [
    "txt = input(\"Write something: \") [::-1]\n",
    "print(txt) "
   ]
  },
  {
   "cell_type": "code",
   "execution_count": 52,
   "metadata": {},
   "outputs": [
    {
     "name": "stdout",
     "output_type": "stream",
     "text": [
      "Write something: huhu\n",
      "['h', 'u', 'h', 'u']\n",
      "uhuh\n",
      "['u', 'h', 'u', 'h']\n",
      "['u', '+', 'h', '+', 'u', '+', 'h']\n",
      "u+h+u+h"
     ]
    }
   ],
   "source": [
    "txt = input(\"Write something: \")\n",
    "print(list(txt))\n",
    "txt = txt [::-1]\n",
    "print(txt)\n",
    "txt = list(txt)\n",
    "print(txt)\n",
    "additional = \"+\"\n",
    "for i in range(len(txt)-1):\n",
    "    txt.insert(i + i + 1, additional)\n",
    "print(txt)\n",
    "for i in txt:\n",
    "    print(i, end=\"\")"
   ]
  },
  {
   "cell_type": "code",
   "execution_count": 53,
   "metadata": {},
   "outputs": [
    {
     "name": "stdout",
     "output_type": "stream",
     "text": [
      "Write something: \n",
      "+\n"
     ]
    }
   ],
   "source": [
    "txt = input(\"Write something: \")\n",
    "if txt == \"\":\n",
    "    print(\"+\")\n",
    "else:\n",
    "    print(list(txt))\n",
    "    txt = txt [::-1]\n",
    "    print(txt)\n",
    "    txt = list(txt)\n",
    "    print(txt)\n",
    "    additional = \"+\"\n",
    "    for i in range(len(txt)-1):\n",
    "        txt.insert(i + i + 1, additional)\n",
    "    print(txt)\n",
    "    for i in txt:\n",
    "        print(i, end=\"\")"
   ]
  },
  {
   "cell_type": "code",
   "execution_count": 2,
   "metadata": {},
   "outputs": [
    {
     "name": "stdin",
     "output_type": "stream",
     "text": [
      "Write something:  juhu\n"
     ]
    },
    {
     "name": "stdout",
     "output_type": "stream",
     "text": [
      "u+h+u+j+"
     ]
    }
   ],
   "source": [
    "txt = input(\"Write something: \") [::-1]\n",
    "if txt == \"\":\n",
    "    print(\"+\")\n",
    "else: \n",
    "    for i in txt:\n",
    "        print(i, end=\"+\")"
   ]
  },
  {
   "cell_type": "code",
   "execution_count": null,
   "metadata": {},
   "outputs": [],
   "source": []
  }
 ],
 "metadata": {
  "kernelspec": {
   "display_name": "Python 3 (ipykernel)",
   "language": "python",
   "name": "python3"
  },
  "language_info": {
   "codemirror_mode": {
    "name": "ipython",
    "version": 3
   },
   "file_extension": ".py",
   "mimetype": "text/x-python",
   "name": "python",
   "nbconvert_exporter": "python",
   "pygments_lexer": "ipython3",
   "version": "3.10.12"
  }
 },
 "nbformat": 4,
 "nbformat_minor": 4
}
